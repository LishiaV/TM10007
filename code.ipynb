{
 "cells": [
  {
   "cell_type": "markdown",
   "metadata": {},
   "source": [
    "## Course: TM10007 - Machine learning\n",
    "Editors: Lishia Vergeer, Amy Roos, Maaike Pruijt, Hilde Roording.\n",
    "\n",
    "Description: The aim of this code is to predict the tumor grade of glioma’s(high or low) before surgery, \n",
    "based on features extracted from a combination of four MRI images: \n",
    "T2-weighted, T2-weighted FLAIR and T1-weighted before and after injection of contrast agent."
   ]
  },
  {
   "cell_type": "markdown",
   "metadata": {},
   "source": [
    "#### Import packages"
   ]
  },
  {
   "cell_type": "code",
   "execution_count": 15,
   "metadata": {},
   "outputs": [],
   "source": [
    "# General packages\n",
    "import numpy as np \n",
    "import pandas as pd\n",
    "import matplotlib.pyplot as plt\n",
    "from sklearn import datasets as ds\n",
    "# from sklearn import decomposition\n",
    "# import seaborn\n",
    "\n",
    "# Import code\n",
    "from brats.load_data import load_data\n",
    "from sklearn.model_selection import train_test_split\n",
    "\n",
    "# scaler\n",
    "from sklearn.preprocessing import StandardScaler, MinMaxScaler, RobustScaler\n",
    "\n",
    "# Classifiers\n",
    "from sklearn.decomposition import PCA\n",
    "from sklearn import metrics\n",
    "from sklearn import feature_selection \n",
    "from sklearn import preprocessing\n",
    "from sklearn import neighbors\n",
    "from sklearn import svm"
   ]
  },
  {
   "cell_type": "markdown",
   "metadata": {},
   "source": [
    "#### Load data"
   ]
  },
  {
   "cell_type": "code",
   "execution_count": 5,
   "metadata": {},
   "outputs": [
    {
     "name": "stdout",
     "output_type": "stream",
     "text": [
      "The number of samples in X: 167\n",
      "The number of columns in X: 725\n"
     ]
    },
    {
     "name": "stderr",
     "output_type": "stream",
     "text": [
      "c:\\Users\\maaik\\Desktop\\TM10007 Machine learning\\TM10007_ML\\TM10007\\brats\\load_data.py:12: FutureWarning: The frame.append method is deprecated and will be removed from pandas in a future version. Use pandas.concat instead.\n",
      "  data = data.append(data2)\n"
     ]
    }
   ],
   "source": [
    "# Data loading functions. Uncomment the one you want to use\n",
    "from brats.load_data import load_data\n",
    "\n",
    "X = load_data()\n",
    "print(f'The number of samples in X: {len(X.index)}')\n",
    "print(f'The number of columns in X: {len(X.columns)}')\n"
   ]
  },
  {
   "cell_type": "markdown",
   "metadata": {},
   "source": [
    "#### Split data in X and y\n",
    "Split in X (data) and y (label)\n",
    "\n",
    "\n",
    "- Checken of splitten van data en labels inderdaad moet na het er uithalen van NaN's --> Nu ervoor!"
   ]
  },
  {
   "cell_type": "code",
   "execution_count": 6,
   "metadata": {},
   "outputs": [
    {
     "name": "stdout",
     "output_type": "stream",
     "text": [
      "The number of samples in y: 167\n",
      "              VOLUME_ET  VOLUME_NET  VOLUME_ED  VOLUME_TC  VOLUME_WT  \\\n",
      "ID                                                                     \n",
      "TCGA-02-0006       1662         384      36268       2046      38314   \n",
      "TCGA-02-0009       4362        4349      15723       8711      24434   \n",
      "TCGA-02-0011      33404       48612      45798      82016     127814   \n",
      "TCGA-02-0027      12114        7587      34086      19701      53787   \n",
      "TCGA-02-0033      34538        7137      65653      41675     107328   \n",
      "\n",
      "              VOLUME_BRAIN  VOLUME_ET_OVER_NET VOLUME_ET_OVER_ED  \\\n",
      "ID                                                                 \n",
      "TCGA-02-0006       1469432            4.328125          0.045826   \n",
      "TCGA-02-0009       1295721            1.002989          0.277428   \n",
      "TCGA-02-0011       1425843            0.687155          0.729377   \n",
      "TCGA-02-0027       1403429            1.596679          0.355395   \n",
      "TCGA-02-0033       1365237            4.839288          0.526069   \n",
      "\n",
      "             VOLUME_NET_OVER_ED  VOLUME_ET_over_TC  ...  TGM_T_4  TGM_Cog_X_5  \\\n",
      "ID                                                  ...                         \n",
      "TCGA-02-0006           0.010588            0.81232  ...      NaN          NaN   \n",
      "TCGA-02-0009           0.276601            0.50075  ...      NaN          NaN   \n",
      "TCGA-02-0011           1.061444            0.40729  ...      NaN          NaN   \n",
      "TCGA-02-0027           0.222584            0.61489  ...      NaN          NaN   \n",
      "TCGA-02-0033           0.108708            0.82875  ...      NaN          NaN   \n",
      "\n",
      "              TGM_Cog_Y_5  TGM_Cog_Z_5  TGM_T_5  TGM_Cog_X_6  TGM_Cog_Y_6  \\\n",
      "ID                                                                          \n",
      "TCGA-02-0006          NaN          NaN      NaN          NaN          NaN   \n",
      "TCGA-02-0009          NaN          NaN      NaN          NaN          NaN   \n",
      "TCGA-02-0011          NaN          NaN      NaN          NaN          NaN   \n",
      "TCGA-02-0027          NaN          NaN      NaN          NaN          NaN   \n",
      "TCGA-02-0033          NaN          NaN      NaN          NaN          NaN   \n",
      "\n",
      "              TGM_Cog_Z_6  TGM_T_6  label  \n",
      "ID                                         \n",
      "TCGA-02-0006          NaN      NaN    GBM  \n",
      "TCGA-02-0009          NaN      NaN    GBM  \n",
      "TCGA-02-0011          NaN      NaN    GBM  \n",
      "TCGA-02-0027          NaN      NaN    GBM  \n",
      "TCGA-02-0033          NaN      NaN    GBM  \n",
      "\n",
      "[5 rows x 725 columns]\n",
      "             label\n",
      "ID                \n",
      "TCGA-02-0006   GBM\n",
      "TCGA-02-0009   GBM\n",
      "TCGA-02-0011   GBM\n",
      "TCGA-02-0027   GBM\n",
      "TCGA-02-0033   GBM\n",
      "...            ...\n",
      "TCGA-HT-8018   LGG\n",
      "TCGA-HT-8111   LGG\n",
      "TCGA-HT-8114   LGG\n",
      "TCGA-HT-8563   LGG\n",
      "TCGA-HT-A61A   LGG\n",
      "\n",
      "[167 rows x 1 columns]\n"
     ]
    }
   ],
   "source": [
    "# split column label from dataset X\n",
    "y = X['label']\n",
    "print(f'The number of samples in y: {len(y.index)}')\n",
    "\n",
    "# print dataframe X (features)\n",
    "df = pd.DataFrame(X)\n",
    "print(df.head())\n",
    "# print dataframe y (labels)\n",
    "df2 = pd.DataFrame(y)\n",
    "print(df2)"
   ]
  },
  {
   "cell_type": "markdown",
   "metadata": {},
   "source": [
    "#### Split data\n",
    "This function creates a panda dataframe and splits the data into test and train components.\n",
    "This is done with test_size variable and the function train_test_split from the sklearn module.\n",
    "Returns a train set with the data of 80% and a test set of 20% of the subjects.\n",
    "\n"
   ]
  },
  {
   "cell_type": "code",
   "execution_count": 14,
   "metadata": {},
   "outputs": [],
   "source": [
    "# Split data\n",
    "X_train, X_test, y_train, y_test = train_test_split(X, y, test_size= 0.2)  \n",
    "\n",
    "# print(f'data_train: {X_train}')\n",
    "# print(f'data_test: {X_test}')"
   ]
  },
  {
   "cell_type": "code",
   "execution_count": 8,
   "metadata": {},
   "outputs": [
    {
     "name": "stdout",
     "output_type": "stream",
     "text": [
      "ID\n",
      "TCGA-02-0006    GBM\n",
      "TCGA-02-0009    GBM\n",
      "TCGA-02-0011    GBM\n",
      "TCGA-02-0027    GBM\n",
      "TCGA-02-0033    GBM\n",
      "               ... \n",
      "TCGA-HT-8018    LGG\n",
      "TCGA-HT-8111    LGG\n",
      "TCGA-HT-8114    LGG\n",
      "TCGA-HT-8563    LGG\n",
      "TCGA-HT-A61A    LGG\n",
      "Name: label, Length: 167, dtype: object\n"
     ]
    }
   ],
   "source": [
    "# hier bestaat column label nog in X \n",
    "print(X['label'])  "
   ]
  },
  {
   "cell_type": "markdown",
   "metadata": {},
   "source": [
    "#### Drop label column from dataset X"
   ]
  },
  {
   "cell_type": "code",
   "execution_count": 9,
   "metadata": {},
   "outputs": [],
   "source": [
    "X_train= X_train.drop(['label'], axis=1)\n",
    "X_test= X_test.drop(['label'], axis=1)\n",
    "X = X.drop(['label'], axis=1)"
   ]
  },
  {
   "cell_type": "markdown",
   "metadata": {},
   "source": [
    "#### Oud stuk code"
   ]
  },
  {
   "cell_type": "code",
   "execution_count": 13,
   "metadata": {},
   "outputs": [],
   "source": [
    "## Dit kan volgensmij beide weg:\n",
    "#OUDE CODE test train split:\n",
    "# data_features = pd.DataFrame(data=data_brats)\n",
    "# data_train, data_test = train_test_split(data_features, test_size=0.45) # Nog bepalen wat test_size wordt\n",
    "\n",
    "#OUDE code splitten X en Y\n",
    "#  print(y)\n",
    "# y = data_fill.pop('label')\n",
    "# print(y)\n",
    "# X = data_fill"
   ]
  },
  {
   "cell_type": "markdown",
   "metadata": {},
   "source": [
    "#### No None\n",
    "Deleting columns with NaN or filling them.\n",
    "- Bepalen waar threshold ligt"
   ]
  },
  {
   "cell_type": "code",
   "execution_count": 10,
   "metadata": {},
   "outputs": [
    {
     "name": "stdout",
     "output_type": "stream",
     "text": [
      "OVERZICHT: VOLUME_ET        0\n",
      "VOLUME_NET       0\n",
      "VOLUME_ED        0\n",
      "VOLUME_TC        0\n",
      "VOLUME_WT        0\n",
      "              ... \n",
      "TGM_T_5        130\n",
      "TGM_Cog_X_6    132\n",
      "TGM_Cog_Y_6    132\n",
      "TGM_Cog_Z_6    132\n",
      "TGM_T_6        132\n",
      "Length: 724, dtype: int64\n"
     ]
    },
    {
     "name": "stderr",
     "output_type": "stream",
     "text": [
      "C:\\Users\\maaik\\AppData\\Local\\Temp\\ipykernel_22232\\3414857135.py:12: FutureWarning: Dropping of nuisance columns in DataFrame reductions (with 'numeric_only=None') is deprecated; in a future version this will raise TypeError.  Select only valid columns before calling the reduction.\n",
      "  data_fill = data_dropcolumn.fillna(data_dropcolumn.median()) #Bekijken mean of median\n"
     ]
    },
    {
     "name": "stdout",
     "output_type": "stream",
     "text": [
      "OVERZICHT NONONE: VOLUME_ET      0\n",
      "VOLUME_NET     0\n",
      "VOLUME_ED      0\n",
      "VOLUME_TC      0\n",
      "VOLUME_WT      0\n",
      "              ..\n",
      "TGM_dw         0\n",
      "TGM_Cog_X_1    0\n",
      "TGM_Cog_Y_1    0\n",
      "TGM_Cog_Z_1    0\n",
      "TGM_T_1        0\n",
      "Length: 704, dtype: int64\n"
     ]
    }
   ],
   "source": [
    "# Insight in the data\n",
    "print(f'OVERZICHT: {X_train.isnull().sum()}')\n",
    "\n",
    "# If the total number of NaN observations in a column are greater than 40%, delete the entire column.\n",
    "perc = 40.0\n",
    "min_count = int(((100-perc)/100)*X_train.shape[0] + 1)\n",
    "data_dropcolumn = X_train.dropna(axis=1, thresh=min_count)\n",
    "#print(data_dropcolumn)\n",
    "#print(data_dropcolumn.size)\n",
    "\n",
    "# fill the NaN observations.\n",
    "data_fill = data_dropcolumn.fillna(data_dropcolumn.median()) #Bekijken mean of median\n",
    "#print(data_fill)\n",
    "#print(data_fill.size)\n",
    "\n",
    "# Inzicht in data\n",
    "print(f'OVERZICHT NONONE: {data_fill.isnull().sum()}')"
   ]
  },
  {
   "cell_type": "markdown",
   "metadata": {},
   "source": [
    "#### Scale features\n",
    "- Checken of Robust Scaler juiste keuze is\n",
    "--> error door div/0 error!"
   ]
  },
  {
   "cell_type": "code",
   "execution_count": 12,
   "metadata": {},
   "outputs": [],
   "source": [
    "# # standard scaler\n",
    "# scaler = StandardScaler()\n",
    "# scaler.fit(X)\n",
    "# X_scaled_one = scaler.transform(X)\n",
    "# print(X_scaled_one)\n",
    "\n",
    "# # minmax scaler\n",
    "# scaler_two = MinMaxScaler()\n",
    "# scaler_two.fit(X)\n",
    "# X_scaled_two = scaler_two.transform(X)\n",
    "# print(X_scaled_two)\n",
    "\n",
    "# # robustscaler\n",
    "# scaler_three = RobustScaler()\n",
    "# scaler_three.fit(X)\n",
    "# X_scaled = scaler_three.transform(X)\n",
    "# print(X_scaled)"
   ]
  },
  {
   "cell_type": "markdown",
   "metadata": {},
   "source": [
    "#### Transform features\n",
    "- We denken alleen PCA te gebruiken. Klopt het dat je dan niet ook selectie gebruikt?\n",
    "- PCA gaat uit van lineair model. Hoe kunnen we weten of ons onze data daar geschikt voor is?\n",
    "- Is het de bedoeling dat we ons hier verder in verdiepen of valt dat buiten de scope van het vak?\n",
    "- Uitzoeken hoe we de X_test en y_test correct gereed krijgen voor PCA."
   ]
  },
  {
   "cell_type": "code",
   "execution_count": null,
   "metadata": {},
   "outputs": [
    {
     "data": {
      "text/plain": [
       "'\\n# Perform a PCA\\npca = decomposition.PCA(n_components=2)\\npca.fit(X) \\nX_train_pca = pca.transform(X)\\n\\nX_test_pca = pca.transform(X_test)\\n\\n'"
      ]
     },
     "execution_count": 67,
     "metadata": {},
     "output_type": "execute_result"
    }
   ],
   "source": [
    "'''\n",
    "# Perform a PCA\n",
    "pca = decomposition.PCA(n_components=2)\n",
    "pca.fit(X) \n",
    "X_train_pca = pca.transform(X)\n",
    "\n",
    "X_test_pca = pca.transform(X_test)\n",
    "\n",
    "'''"
   ]
  },
  {
   "cell_type": "markdown",
   "metadata": {},
   "source": [
    "#### Classifier: kNN"
   ]
  },
  {
   "cell_type": "code",
   "execution_count": null,
   "metadata": {},
   "outputs": [],
   "source": [
    "'''\n",
    "# Fit kNN\n",
    "knn = neighbors.KNeighborsClassifier(n_neighbors=15)\n",
    "knn.fit(X_train_pca, y_train)\n",
    "score_train = knn.score(X_train_pca, y_train)\n",
    "score_test = knn.score(X_test_pca, y_test)\n",
    "\n",
    "# Print result\n",
    "print(f\"Training result: {score_train}\")\n",
    "print(f\"Test result: {score_test}\")\n",
    "'''"
   ]
  }
 ],
 "metadata": {
  "interpreter": {
   "hash": "285351e5d04eaa7ba8fcc836792d3255e07e50ee2507db40f71c874eba2e22ab"
  },
  "kernelspec": {
   "display_name": "Python 3.9.5 ('base')",
   "language": "python",
   "name": "python3"
  },
  "language_info": {
   "codemirror_mode": {
    "name": "ipython",
    "version": 3
   },
   "file_extension": ".py",
   "mimetype": "text/x-python",
   "name": "python",
   "nbconvert_exporter": "python",
   "pygments_lexer": "ipython3",
   "version": "3.9.12"
  },
  "orig_nbformat": 4
 },
 "nbformat": 4,
 "nbformat_minor": 2
}
