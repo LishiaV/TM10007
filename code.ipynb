{
 "cells": [
  {
   "cell_type": "markdown",
   "metadata": {},
   "source": [
    "## Course: TM10007 - Machine learning\n",
    "Editors: Lishia Vergeer, Amy Roos, Maaike Pruijt, Hilde Roording.\n",
    "\n",
    "Description: The aim of this code is to predict the tumor grade of glioma’s(high or low) before surgery, \n",
    "based on features extracted from a combination of four MRI images: \n",
    "T2-weighted, T2-weighted FLAIR and T1-weighted before and after injection of contrast agent."
   ]
  },
  {
   "cell_type": "markdown",
   "metadata": {},
   "source": [
    "#### Import packages"
   ]
  },
  {
   "cell_type": "code",
   "execution_count": 152,
   "metadata": {},
   "outputs": [],
   "source": [
    "# General packages\n",
    "import numpy as np \n",
    "import pandas as pd\n",
    "import matplotlib.pyplot as plt\n",
    "from sklearn import datasets as ds\n",
    "\n",
    "# Import code\n",
    "from brats.load_data import load_data\n",
    "from sklearn.model_selection import train_test_split\n",
    "from sklearn import decomposition\n",
    "\n",
    "# scaler\n",
    "from sklearn.preprocessing import StandardScaler, MinMaxScaler, RobustScaler\n",
    "\n",
    "# Classifiers\n",
    "from sklearn.decomposition import PCA\n",
    "from sklearn import metrics\n",
    "from sklearn import feature_selection \n",
    "from sklearn import preprocessing\n",
    "from sklearn import neighbors\n",
    "from sklearn import svm"
   ]
  },
  {
   "cell_type": "markdown",
   "metadata": {},
   "source": [
    "#### Load data"
   ]
  },
  {
   "cell_type": "code",
   "execution_count": 153,
   "metadata": {},
   "outputs": [
    {
     "name": "stdout",
     "output_type": "stream",
     "text": [
      "The number of samples in data_brats: 167\n",
      "The number of columns in data_brats: 724\n"
     ]
    },
    {
     "name": "stderr",
     "output_type": "stream",
     "text": [
      "c:\\Users\\maaik\\Desktop\\TM10007_Machine_learning\\TM10007_ML\\TM10007\\brats\\load_data.py:12: FutureWarning: The frame.append method is deprecated and will be removed from pandas in a future version. Use pandas.concat instead.\n",
      "  data = data.append(data2)\n"
     ]
    }
   ],
   "source": [
    "# Data loading functions. Uncomment the one you want to use\n",
    "from brats.load_data import load_data\n",
    "\n",
    "data_brats = load_data()\n",
    "print(f'The number of samples in data_brats: {len(X.index)}')\n",
    "print(f'The number of columns in data_brats: {len(X.columns)}')\n",
    "\n",
    "# Convert to dataframe\n",
    "X = pd.DataFrame(data_brats)\n"
   ]
  },
  {
   "cell_type": "markdown",
   "metadata": {},
   "source": [
    "#### Split data in X and y\n",
    "Split in X (data) and y (label)\n",
    "\n",
    "\n",
    "- Checken of splitten van data en labels inderdaad moet na het er uithalen van NaN's --> Nu ervoor!"
   ]
  },
  {
   "cell_type": "code",
   "execution_count": 154,
   "metadata": {},
   "outputs": [
    {
     "name": "stdout",
     "output_type": "stream",
     "text": [
      "The number of samples in y: 167\n"
     ]
    }
   ],
   "source": [
    "# split column label from dataset X\n",
    "y = X.pop('label')\n",
    "print(f'The number of samples in y: {len(y.index)}')\n"
   ]
  },
  {
   "cell_type": "markdown",
   "metadata": {},
   "source": [
    "#### Split data\n",
    "This function creates a panda dataframe and splits the data into test and train components.\n",
    "This is done with test_size variable and the function train_test_split from the sklearn module.\n",
    "Returns a train set with the data of 80% and a test set of 20% of the subjects.\n",
    "\n"
   ]
  },
  {
   "cell_type": "code",
   "execution_count": 155,
   "metadata": {},
   "outputs": [],
   "source": [
    "# Split data\n",
    "X_train, X_test, y_train, y_test = train_test_split(X, y, test_size= 0.1)  "
   ]
  },
  {
   "cell_type": "markdown",
   "metadata": {},
   "source": [
    "#### No None\n",
    "Deleting columns with NaN or filling them.\n",
    "- Bepalen waar threshold ligt"
   ]
  },
  {
   "cell_type": "code",
   "execution_count": 156,
   "metadata": {},
   "outputs": [
    {
     "name": "stdout",
     "output_type": "stream",
     "text": [
      "OVERZICHT: VOLUME_ET        0\n",
      "VOLUME_NET       0\n",
      "VOLUME_ED        0\n",
      "VOLUME_TC        0\n",
      "VOLUME_WT        0\n",
      "              ... \n",
      "TGM_T_5        147\n",
      "TGM_Cog_X_6    149\n",
      "TGM_Cog_Y_6    149\n",
      "TGM_Cog_Z_6    149\n",
      "TGM_T_6        149\n",
      "Length: 724, dtype: int64\n",
      "OVERZICHT NONONE: VOLUME_ET      0\n",
      "VOLUME_NET     0\n",
      "VOLUME_ED      0\n",
      "VOLUME_TC      0\n",
      "VOLUME_WT      0\n",
      "              ..\n",
      "TGM_dw         0\n",
      "TGM_Cog_X_1    0\n",
      "TGM_Cog_Y_1    0\n",
      "TGM_Cog_Z_1    0\n",
      "TGM_T_1        0\n",
      "Length: 704, dtype: int64\n"
     ]
    }
   ],
   "source": [
    "# Insight in the data\n",
    "print(f'OVERZICHT: {X_train.isnull().sum()}')\n",
    "\n",
    "# infinity to NaN\n",
    "X_train[X_train==np.inf]=np.nan\n",
    "\n",
    "# non-numeric features to NaN\n",
    "X_train = X_train.replace(['#DIV/0!'], np.nan)\n",
    "X_train = X_train.apply(pd.to_numeric, errors='coerce')\n",
    "\n",
    "# If the total number of NaN observations in a column are greater than 40%, delete the entire column.\n",
    "perc = 40.0\n",
    "min_count = int(((100-perc)/100)*X_train.shape[0] + 1)\n",
    "data_dropcolumn = X_train.dropna(axis=1, thresh=min_count)\n",
    "\n",
    "# fill the NaN observations.\n",
    "data_fill = data_dropcolumn.fillna(data_dropcolumn.median()) #Bekijken mean of median\n",
    "# print(data_fill)\n",
    "\n",
    "# Inzicht in data\n",
    "print(f'OVERZICHT NONONE: {data_fill.isnull().sum()}')\n"
   ]
  },
  {
   "cell_type": "markdown",
   "metadata": {},
   "source": [
    "#### Scale features"
   ]
  },
  {
   "cell_type": "code",
   "execution_count": 157,
   "metadata": {},
   "outputs": [
    {
     "name": "stdout",
     "output_type": "stream",
     "text": [
      "[[ 0.44261689 -0.3793774   0.26399166 ... -0.49758091  0.2301565\n",
      "  -0.10666034]\n",
      " [-0.44620939  0.61869312 -0.12028    ... -0.09553132 -0.88209699\n",
      "  -0.27184741]\n",
      " [ 0.15056793  1.13852722  0.44383111 ... -0.94431519  0.31676419\n",
      "   2.73666138]\n",
      " ...\n",
      " [ 2.35593907  0.33094301  0.08354311 ...  0.43424679 -0.16555941\n",
      "   2.14296643]\n",
      " [ 0.07149775 -0.12362316 -0.67613006 ...  0.80001105 -0.18177622\n",
      "   0.02097008]\n",
      " [ 0.57726512 -0.33465004  0.44527774 ... -0.29857362 -0.99049495\n",
      "  -0.05765003]]\n"
     ]
    }
   ],
   "source": [
    "# robustscaler\n",
    "scaler_three = RobustScaler()\n",
    "scaler_three.fit(data_fill)\n",
    "X_scaled = scaler_three.transform(data_fill)\n",
    "\n",
    "print(X_scaled)"
   ]
  },
  {
   "cell_type": "markdown",
   "metadata": {},
   "source": [
    "#### Transform features\n",
    "- We denken alleen PCA te gebruiken. Klopt het dat je dan niet ook selectie gebruikt?\n",
    "- PCA gaat uit van lineair model. Hoe kunnen we weten of ons onze data daar geschikt voor is?\n",
    "- Is het de bedoeling dat we ons hier verder in verdiepen of valt dat buiten de scope van het vak?\n",
    "- Uitzoeken hoe we de X_test en y_test correct gereed krijgen voor PCA."
   ]
  },
  {
   "cell_type": "code",
   "execution_count": 158,
   "metadata": {},
   "outputs": [
    {
     "name": "stdout",
     "output_type": "stream",
     "text": [
      "[[ 1.14377304e+01 -2.75923877e+02]\n",
      " [ 1.14048696e+01 -2.75892201e+02]\n",
      " [ 1.12620555e+01 -2.75840009e+02]\n",
      " [ 1.13658753e+01 -2.75868717e+02]\n",
      " [ 1.14776062e+01 -2.76005801e+02]\n",
      " [ 1.13485175e+01 -2.75830674e+02]\n",
      " [-2.78827635e+03  3.05535467e+03]\n",
      " [ 1.13543161e+01 -2.75920046e+02]\n",
      " [ 1.13270582e+01 -2.75959192e+02]\n",
      " [ 3.75090920e+03  2.99610088e+03]\n",
      " [ 1.13942098e+01 -2.75898348e+02]\n",
      " [ 1.14046637e+01 -2.75893694e+02]\n",
      " [ 1.17726060e+01 -2.75617805e+02]\n",
      " [ 1.12595217e+01 -2.75928615e+02]\n",
      " [ 7.10656116e+00 -2.70997473e+02]\n",
      " [ 1.15661743e+01 -2.76036390e+02]\n",
      " [ 1.14503311e+01 -2.75974876e+02]\n",
      " [ 1.13315658e+01 -2.75975379e+02]\n",
      " [ 1.14124269e+01 -2.75918326e+02]\n",
      " [ 1.13739748e+01 -2.75891144e+02]\n",
      " [-7.71182135e+02  6.19361506e+02]\n",
      " [ 3.59389853e+01 -2.54481006e+02]\n",
      " [ 1.13515493e+01 -2.75914045e+02]\n",
      " [ 8.14350579e+02  4.27143295e+02]\n",
      " [ 1.30575771e+01 -2.74496617e+02]\n",
      " [ 1.13655163e+01 -2.75948942e+02]\n",
      " [ 1.13942154e+01 -2.75911591e+02]\n",
      " [ 1.14523135e+01 -2.75937485e+02]\n",
      " [ 7.57393214e+01  3.53576709e+01]\n",
      " [-2.81438857e+01 -2.31830271e+02]\n",
      " [ 2.80853875e+01 -2.61299317e+02]\n",
      " [-1.11762228e+03  1.01489376e+03]\n",
      " [ 1.14298815e+01 -2.75951382e+02]\n",
      " [ 1.14191229e+01 -2.75888470e+02]\n",
      " [ 1.20332565e+01 -2.75329532e+02]\n",
      " [ 1.14334189e+01 -2.75929945e+02]\n",
      " [-1.02008179e+03  9.02950653e+02]\n",
      " [ 1.08623823e+01 -2.76299076e+02]\n",
      " [ 1.17209434e+01 -2.75614263e+02]\n",
      " [ 3.58073028e+02  2.72093563e+01]\n",
      " [-7.51602120e+01 -1.76933490e+02]\n",
      " [-2.14073577e+02 -2.33655743e+01]\n",
      " [ 7.05116154e+02  3.31151897e+02]\n",
      " [-2.16325031e+03  2.20940605e+03]\n",
      " [ 1.28246639e+01 -2.74682172e+02]\n",
      " [ 2.54530002e+01 -2.61609201e+02]\n",
      " [ 1.14504269e+01 -2.75989965e+02]\n",
      " [ 1.15161436e+01 -2.76054324e+02]\n",
      " [ 1.14228133e+01 -2.76084369e+02]\n",
      " [ 1.13268224e+01 -2.75897562e+02]\n",
      " [ 7.21316907e+01 -2.22672543e+02]\n",
      " [ 1.61917354e+03  1.13099017e+03]\n",
      " [ 1.12333876e+01 -2.64101764e+02]\n",
      " [ 9.06497792e+01 -2.06413813e+02]\n",
      " [ 1.15408052e+01 -2.76026183e+02]\n",
      " [ 1.13564139e+01 -2.75860153e+02]\n",
      " [-1.39312100e+03  1.32932457e+03]\n",
      " [ 1.12045851e+01 -2.75746233e+02]\n",
      " [ 1.07761846e+01 -2.76140851e+02]\n",
      " [ 1.13725119e+01 -2.75876676e+02]\n",
      " [ 1.15294443e+01 -2.76097906e+02]\n",
      " [ 7.16667766e+02  3.41178115e+02]\n",
      " [ 1.14418353e+01 -2.75918114e+02]\n",
      " [ 1.14369441e+01 -2.75874888e+02]\n",
      " [-2.43066303e+01 -2.25704150e+02]\n",
      " [ 1.10786671e+03  6.83544821e+02]\n",
      " [ 1.14077277e+01 -2.75954671e+02]\n",
      " [ 1.23630227e+02 -1.77678757e+02]\n",
      " [ 1.10380130e+01 -2.75963556e+02]\n",
      " [-1.23356654e+02 -1.22021680e+02]\n",
      " [ 1.14449597e+01 -2.75957851e+02]\n",
      " [ 1.14542880e+01 -2.75959507e+02]\n",
      " [ 1.13848817e+01 -2.75967849e+02]\n",
      " [-2.37014512e+02  8.04589444e+00]\n",
      " [ 1.12557993e+01 -2.75818255e+02]\n",
      " [ 1.13484735e+01 -2.75892229e+02]\n",
      " [ 1.15390344e+01 -2.76125594e+02]\n",
      " [ 1.07395038e+01 -2.76059747e+02]\n",
      " [ 2.97711272e+03  2.31910985e+03]\n",
      " [ 1.12610724e+01 -2.76150021e+02]\n",
      " [ 1.14486969e+01 -2.76184284e+02]\n",
      " [ 1.14771321e+01 -2.75968877e+02]\n",
      " [-1.22290461e+03  1.13637806e+03]\n",
      " [-5.57548266e+01 -1.99348891e+02]\n",
      " [ 1.10452046e+01 -2.75691995e+02]\n",
      " [ 1.12175621e+01 -2.76028541e+02]\n",
      " [-1.45061341e+03  1.39584133e+03]\n",
      " [-5.88046945e+02  4.09169437e+02]\n",
      " [ 2.68081801e+02 -5.08309819e+01]\n",
      " [ 1.13914169e+01 -2.75848052e+02]\n",
      " [ 1.15734906e+01 -2.76195169e+02]\n",
      " [ 1.11903640e+01 -2.75778556e+02]\n",
      " [ 1.13603792e+01 -2.75909178e+02]\n",
      " [ 1.16216840e+02 -1.84224242e+02]\n",
      " [-7.87442249e+02  6.34018721e+02]\n",
      " [ 1.13126099e+01 -2.75957579e+02]\n",
      " [ 8.34122039e+00 -2.72434377e+02]\n",
      " [ 2.12323157e+02 -1.00128163e+02]\n",
      " [ 1.14325416e+01 -2.75916691e+02]\n",
      " [ 1.05371515e+01 -2.75836314e+02]\n",
      " [ 1.13850360e+01 -2.75893167e+02]\n",
      " [ 1.14501780e+01 -2.76053963e+02]\n",
      " [ 1.14452049e+01 -2.76002233e+02]\n",
      " [ 1.14469309e+01 -2.76348759e+02]\n",
      " [-1.11536759e+03  1.01257079e+03]\n",
      " [ 1.14552467e+01 -2.76111611e+02]\n",
      " [ 1.74432854e+01 -2.44288763e+02]\n",
      " [ 1.15260189e+01 -2.76403395e+02]\n",
      " [-1.01061102e+03  8.93105389e+02]\n",
      " [ 1.61857447e+01 -2.71738260e+02]\n",
      " [ 1.07127895e+01 -2.75388445e+02]\n",
      " [ 3.87220782e+02  3.94415078e+02]\n",
      " [-3.21619845e+02  1.04700360e+02]\n",
      " [ 1.49415203e+02 -1.55161180e+02]\n",
      " [ 8.85787398e+00 -2.72996003e+02]\n",
      " [ 1.14218330e+01 -2.75942601e+02]\n",
      " [ 1.14555527e+01 -2.75962895e+02]\n",
      " [-3.32290334e-01 -2.62449555e+02]\n",
      " [-1.43582361e+03  1.37814101e+03]\n",
      " [ 1.13227568e+01 -2.75867463e+02]\n",
      " [ 2.72410872e+02 -4.74342254e+01]\n",
      " [ 1.08398008e+01 -2.75402433e+02]\n",
      " [ 9.20290160e+02  5.19391477e+02]\n",
      " [ 1.14011004e+01 -2.76091696e+02]\n",
      " [ 1.14703192e+01 -2.76439496e+02]\n",
      " [ 1.14495405e+01 -2.75920524e+02]\n",
      " [ 3.06154441e+03  2.39307637e+03]\n",
      " [-3.70525763e+02  1.62496829e+02]\n",
      " [-1.70883405e+01 -2.42576383e+02]\n",
      " [ 1.14389986e+01 -2.75979309e+02]\n",
      " [ 1.13867176e+01 -2.75900012e+02]\n",
      " [ 4.76330101e+00 -1.42793449e+02]\n",
      " [-1.89599736e+03  1.90407700e+03]\n",
      " [ 1.14587179e+01 -2.75949989e+02]\n",
      " [ 1.14664995e+01 -2.75951576e+02]\n",
      " [ 1.10718589e+01 -2.76163825e+02]\n",
      " [ 1.14206426e+01 -2.75883146e+02]\n",
      " [ 1.14345451e+01 -2.75911707e+02]\n",
      " [-7.49829634e+00 -2.54359710e+02]\n",
      " [ 4.79016056e+02  1.34011821e+02]\n",
      " [-5.77062507e+01 -1.96974301e+02]\n",
      " [ 8.37222915e+02  4.47259374e+02]\n",
      " [ 1.14838792e+01 -2.76028365e+02]\n",
      " [ 1.14392367e+01 -2.76064857e+02]\n",
      " [ 1.13923505e+02 -1.48315135e+02]\n",
      " [ 1.11362012e+01 -2.75762843e+02]\n",
      " [ 1.14684866e+01 -2.75998030e+02]\n",
      " [-1.50646021e+02 -8.04621322e+01]\n",
      " [ 4.81152869e+01 -2.43811253e+02]\n",
      " [ 1.14456424e+01 -2.75907458e+02]]\n"
     ]
    }
   ],
   "source": [
    "# Perform a PCA\n",
    "pca = decomposition.PCA(n_components=2)\n",
    "pca.fit(X_scaled) \n",
    "X_train_pca = pca.transform(X_scaled)\n",
    "print(X_train_pca)\n",
    "\n",
    "#X_test_pca = pca.transform(X_test)\n"
   ]
  },
  {
   "cell_type": "markdown",
   "metadata": {},
   "source": [
    "#### Classifier: kNN"
   ]
  },
  {
   "cell_type": "code",
   "execution_count": 159,
   "metadata": {},
   "outputs": [
    {
     "name": "stdout",
     "output_type": "stream",
     "text": [
      "Training result: 0.6866666666666666\n"
     ]
    }
   ],
   "source": [
    "# Fit kNN\n",
    "knn = neighbors.KNeighborsClassifier(n_neighbors=15)\n",
    "knn.fit(X_train_pca, y_train)\n",
    "score_train = knn.score(X_train_pca, y_train)\n",
    "#score_test = knn.score(X_test_pca, y_test)\n",
    "\n",
    "# Print result\n",
    "print(f\"Training result: {score_train}\")\n",
    "#print(f\"Test result: {score_test}\")"
   ]
  },
  {
   "cell_type": "markdown",
   "metadata": {},
   "source": [
    "#### Classifier: SVM"
   ]
  },
  {
   "cell_type": "code",
   "execution_count": null,
   "metadata": {},
   "outputs": [],
   "source": []
  },
  {
   "cell_type": "markdown",
   "metadata": {},
   "source": [
    "#### Classifier: Random Forest"
   ]
  },
  {
   "cell_type": "code",
   "execution_count": null,
   "metadata": {},
   "outputs": [],
   "source": []
  }
 ],
 "metadata": {
  "interpreter": {
   "hash": "285351e5d04eaa7ba8fcc836792d3255e07e50ee2507db40f71c874eba2e22ab"
  },
  "kernelspec": {
   "display_name": "Python 3.9.5 ('base')",
   "language": "python",
   "name": "python3"
  },
  "language_info": {
   "codemirror_mode": {
    "name": "ipython",
    "version": 3
   },
   "file_extension": ".py",
   "mimetype": "text/x-python",
   "name": "python",
   "nbconvert_exporter": "python",
   "pygments_lexer": "ipython3",
   "version": "3.9.12"
  },
  "orig_nbformat": 4
 },
 "nbformat": 4,
 "nbformat_minor": 2
}
